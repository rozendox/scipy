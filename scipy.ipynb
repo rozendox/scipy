{
 "cells": [
  {
   "cell_type": "code",
   "execution_count": 2,
   "id": "a08be360",
   "metadata": {},
   "outputs": [],
   "source": [
    "import numpy as np\n",
    "from scipy.integrate import quad"
   ]
  },
  {
   "cell_type": "code",
   "execution_count": 3,
   "id": "32239906",
   "metadata": {},
   "outputs": [
    {
     "data": {
      "text/plain": [
       "(22025.465794806725, 6.239389118119916e-10)"
      ]
     },
     "execution_count": 3,
     "metadata": {},
     "output_type": "execute_result"
    }
   ],
   "source": [
    "A_x = lambda x: np.exp(x)\n",
    "quad(A_x,0,10)"
   ]
  },
  {
   "cell_type": "code",
   "execution_count": 6,
   "id": "1f064ea3",
   "metadata": {},
   "outputs": [
    {
     "data": {
      "text/plain": [
       "22025.465794806718"
      ]
     },
     "execution_count": 6,
     "metadata": {},
     "output_type": "execute_result"
    }
   ],
   "source": [
    "np.exp(10) - np.exp(0)"
   ]
  },
  {
   "cell_type": "code",
   "execution_count": 7,
   "id": "9a8b772e",
   "metadata": {},
   "outputs": [
    {
     "data": {
      "text/plain": [
       "(2500.0000000000005, 2.775557561562892e-11)"
      ]
     },
     "execution_count": 7,
     "metadata": {},
     "output_type": "execute_result"
    }
   ],
   "source": [
    "B_x = lambda x: x**3\n",
    "quad(B_x,0,10)"
   ]
  },
  {
   "cell_type": "code",
   "execution_count": 8,
   "id": "e34c2b47",
   "metadata": {},
   "outputs": [
    {
     "data": {
      "text/plain": [
       "2500.0"
      ]
     },
     "execution_count": 8,
     "metadata": {},
     "output_type": "execute_result"
    }
   ],
   "source": [
    "10**4/4"
   ]
  },
  {
   "cell_type": "code",
   "execution_count": 11,
   "id": "97919658",
   "metadata": {},
   "outputs": [
    {
     "data": {
      "text/plain": [
       "(2.302585092994052, 1.7485989740926124e-08)"
      ]
     },
     "execution_count": 11,
     "metadata": {},
     "output_type": "execute_result"
    }
   ],
   "source": [
    "C_x = lambda x: 1/x\n",
    "\n",
    "#A diferença para as outras para variar de 1 a 10 é que essa função é logaritma\n",
    "#então deve-se variar de 1 a 10\n",
    "quad(C_x, 1,10)"
   ]
  },
  {
   "cell_type": "code",
   "execution_count": 12,
   "id": "fc41191f",
   "metadata": {},
   "outputs": [
    {
     "data": {
      "text/plain": [
       "2.302585092994046"
      ]
     },
     "execution_count": 12,
     "metadata": {},
     "output_type": "execute_result"
    }
   ],
   "source": [
    "np.log(10) - np.log(1)"
   ]
  },
  {
   "cell_type": "code",
   "execution_count": null,
   "id": "fa7c8570",
   "metadata": {},
   "outputs": [],
   "source": []
  }
 ],
 "metadata": {
  "kernelspec": {
   "display_name": "Python 3 (ipykernel)",
   "language": "python",
   "name": "python3"
  },
  "language_info": {
   "codemirror_mode": {
    "name": "ipython",
    "version": 3
   },
   "file_extension": ".py",
   "mimetype": "text/x-python",
   "name": "python",
   "nbconvert_exporter": "python",
   "pygments_lexer": "ipython3",
   "version": "3.9.13"
  }
 },
 "nbformat": 4,
 "nbformat_minor": 5
}
